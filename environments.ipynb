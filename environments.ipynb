{
 "cells": [
  {
   "cell_type": "code",
   "execution_count": null,
   "id": "c2a754ab",
   "metadata": {},
   "outputs": [],
   "source": []
  },
  {
   "cell_type": "markdown",
   "id": "a1a43bf8",
   "metadata": {},
   "source": [
    "# Enviroments in SageMaker\n",
    "\n",
    "In ordering to be familiar in SageMaker Notebook, we need to be familiar with the differents enviroments that there are."
   ]
  },
  {
   "cell_type": "markdown",
   "id": "e5304519",
   "metadata": {},
   "source": [
    "In SageMaker Notebook we have loaded our custom python enviroment"
   ]
  },
  {
   "cell_type": "code",
   "execution_count": 1,
   "id": "5f9c9a64",
   "metadata": {},
   "outputs": [
    {
     "name": "stdout",
     "output_type": "stream",
     "text": [
      "/home/ec2-user/anaconda3/envs/YourKernel\n"
     ]
    }
   ],
   "source": [
    "import sys ,os\n",
    "print(sys.prefix)"
   ]
  },
  {
   "cell_type": "markdown",
   "id": "50fde140",
   "metadata": {},
   "source": [
    "However if we want to install to our enviroment by using our terminal we have to be careful, becase Sagemaker runs on their own container,\n",
    "then in the  terminal of Sagemaker we have to load propertly the enviroment that we have created"
   ]
  },
  {
   "cell_type": "code",
   "execution_count": 2,
   "id": "c676caad",
   "metadata": {},
   "outputs": [],
   "source": [
    "Sagemaker = True\n",
    "if Sagemaker :\n",
    "    env='source activate python3 && conda activate VideoMessage &&'\n",
    "else:\n",
    "    env='' "
   ]
  },
  {
   "cell_type": "code",
   "execution_count": 3,
   "id": "54a3e233",
   "metadata": {},
   "outputs": [],
   "source": [
    "!echo -e 'import sys , os\\nprint(sys.prefix)\\nprint(\"Hello World!\")\\n'> hello.py"
   ]
  },
  {
   "cell_type": "code",
   "execution_count": 4,
   "id": "f0198b8f",
   "metadata": {},
   "outputs": [
    {
     "name": "stdout",
     "output_type": "stream",
     "text": [
      "import sys , os\n",
      "print(sys.prefix)\n",
      "print(\"Hello World!\")\n",
      "\n"
     ]
    }
   ],
   "source": [
    "cat hello.py"
   ]
  },
  {
   "cell_type": "markdown",
   "id": "6a1a6acc",
   "metadata": {},
   "source": [
    "For example if we run the hello world without loading we get"
   ]
  },
  {
   "cell_type": "code",
   "execution_count": 5,
   "id": "86d92b73",
   "metadata": {},
   "outputs": [
    {
     "name": "stdout",
     "output_type": "stream",
     "text": [
      "/home/ec2-user/anaconda3/envs/JupyterSystemEnv\n",
      "Hello World!\n"
     ]
    },
    {
     "data": {
      "text/plain": [
       "0"
      ]
     },
     "execution_count": 5,
     "metadata": {},
     "output_type": "execute_result"
    }
   ],
   "source": [
    "os.system('python hello.py')"
   ]
  },
  {
   "cell_type": "markdown",
   "id": "c2cebc0d",
   "metadata": {},
   "source": [
    "As you see in Sagemaker the enviroment is different as we wanted"
   ]
  },
  {
   "cell_type": "code",
   "execution_count": 6,
   "id": "c2a2e102",
   "metadata": {},
   "outputs": [
    {
     "name": "stdout",
     "output_type": "stream",
     "text": [
      "/home/ec2-user/anaconda3/envs/python3\n",
      "Hello World!\n"
     ]
    },
    {
     "data": {
      "text/plain": [
       "0"
      ]
     },
     "execution_count": 6,
     "metadata": {},
     "output_type": "execute_result"
    }
   ],
   "source": [
    "os.system('source activate python3 && python hello.py')"
   ]
  },
  {
   "cell_type": "code",
   "execution_count": 7,
   "id": "8985e757",
   "metadata": {},
   "outputs": [],
   "source": [
    "base='source activate python3 &&'"
   ]
  },
  {
   "cell_type": "markdown",
   "id": "886f3608",
   "metadata": {},
   "source": [
    "So we need to call with our custom enviroment"
   ]
  },
  {
   "cell_type": "code",
   "execution_count": 8,
   "id": "56c91ce8",
   "metadata": {},
   "outputs": [
    {
     "name": "stdout",
     "output_type": "stream",
     "text": [
      "/home/ec2-user/anaconda3/envs/VideoMessage\n",
      "Hello World!\n"
     ]
    },
    {
     "data": {
      "text/plain": [
       "0"
      ]
     },
     "execution_count": 8,
     "metadata": {},
     "output_type": "execute_result"
    }
   ],
   "source": [
    "os.system('{}python hello.py'.format(env))"
   ]
  },
  {
   "cell_type": "markdown",
   "id": "91307fb2",
   "metadata": {},
   "source": [
    "Additionarlly dont do this kind of commands if you are in Your Kernel"
   ]
  },
  {
   "cell_type": "code",
   "execution_count": 9,
   "id": "92c4b6b3",
   "metadata": {},
   "outputs": [
    {
     "name": "stderr",
     "output_type": "stream",
     "text": [
      "\n",
      "CommandNotFoundError: Your shell has not been properly configured to use 'conda activate'.\n",
      "To initialize your shell, run\n",
      "\n",
      "    $ conda init <SHELL_NAME>\n",
      "\n",
      "Currently supported shells are:\n",
      "  - bash\n",
      "  - fish\n",
      "  - tcsh\n",
      "  - xonsh\n",
      "  - zsh\n",
      "  - powershell\n",
      "\n",
      "See 'conda init --help' for more information and options.\n",
      "\n",
      "IMPORTANT: You may need to close and restart your shell after running 'conda init'.\n",
      "\n",
      "\n"
     ]
    },
    {
     "data": {
      "text/plain": [
       "256"
      ]
     },
     "execution_count": 9,
     "metadata": {},
     "output_type": "execute_result"
    }
   ],
   "source": [
    "os.system('conda activate VideoMessage && python hello.py')"
   ]
  },
  {
   "cell_type": "markdown",
   "id": "4be7dc84",
   "metadata": {},
   "source": [
    "## Catch os.system exceptions with Python\n",
    "If you are interested to catch errors from  your system you can do this trick.\n",
    "Let us assume you have a simple program in python that has errors and you want to know that something went wrong."
   ]
  },
  {
   "cell_type": "code",
   "execution_count": 11,
   "id": "c85703a9",
   "metadata": {},
   "outputs": [
    {
     "name": "stdout",
     "output_type": "stream",
     "text": [
      "I am on the Terminal\n",
      "Error\n"
     ]
    },
    {
     "name": "stderr",
     "output_type": "stream",
     "text": [
      "Traceback (most recent call last):\n",
      "  File \"error.py\", line 3, in <module>\n",
      "    print(Not_defined)\n",
      "NameError: name 'Not_defined' is not defined\n"
     ]
    }
   ],
   "source": [
    "import os\n",
    "is_command_ok = os.system(\"python error.py\")\n",
    "if is_command_ok >0:\n",
    "    print(\"Error\")\n",
    "else:\n",
    "    print(\"OK\")"
   ]
  },
  {
   "cell_type": "code",
   "execution_count": null,
   "id": "3eb0ecee",
   "metadata": {},
   "outputs": [],
   "source": []
  }
 ],
 "metadata": {
  "kernelspec": {
   "display_name": "Python 3 (Your Kernel)",
   "language": "python",
   "name": "yourkernel"
  },
  "language_info": {
   "codemirror_mode": {
    "name": "ipython",
    "version": 3
   },
   "file_extension": ".py",
   "mimetype": "text/x-python",
   "name": "python",
   "nbconvert_exporter": "python",
   "pygments_lexer": "ipython3",
   "version": "3.7.13"
  }
 },
 "nbformat": 4,
 "nbformat_minor": 5
}
