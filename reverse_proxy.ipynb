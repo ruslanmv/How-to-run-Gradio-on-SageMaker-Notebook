{
 "cells": [
  {
   "cell_type": "code",
   "execution_count": 1,
   "id": "8255a712",
   "metadata": {},
   "outputs": [
    {
     "name": "stdout",
     "output_type": "stream",
     "text": [
      "                                                                                                    \r"
     ]
    },
    {
     "data": {
      "text/plain": [
       "{'status': 'ok', 'restart': True}"
      ]
     },
     "execution_count": 1,
     "metadata": {},
     "output_type": "execute_result"
    }
   ],
   "source": [
    "#Setup of your token for first time\n",
    "import sys, IPython\n",
    "from pyngrok import ngrok\n",
    "import json \n",
    "# Opening JSON file\n",
    "f = open('data.json')\n",
    "# returns JSON object as \n",
    "# a dictionary\n",
    "data = json.load(f)\n",
    "#print(data)\n",
    "YOUR_TOKEN=data['token']\n",
    "ngrok.set_auth_token(YOUR_TOKEN)\n",
    "IPython.Application.instance().kernel.do_shutdown(True)"
   ]
  },
  {
   "cell_type": "code",
   "execution_count": 1,
   "id": "247f0b27",
   "metadata": {},
   "outputs": [
    {
     "name": "stderr",
     "output_type": "stream",
     "text": [
      "/tmp/ipykernel_18057/3688136464.py:4: DeprecationWarning: Importing display from IPython.core.display is deprecated since IPython 7.14, please import from IPython display\n",
      "  from IPython.core.display import display, HTML\n"
     ]
    },
    {
     "data": {
      "text/html": [
       "<b><a target=\"blank\" href=\"https://e870-34-236-55-223.ngrok.io\">Load test: https://e870-34-236-55-223.ngrok.io</a></b>"
      ],
      "text/plain": [
       "<IPython.core.display.HTML object>"
      ]
     },
     "metadata": {},
     "output_type": "display_data"
    }
   ],
   "source": [
    "# If is installed the token you can use this code\n",
    "import sys, IPython\n",
    "from pyngrok import ngrok\n",
    "from IPython.core.display import display, HTML\n",
    "# Open a HTTP tunnel on port \n",
    "# <NgrokTunnel: \"http://<public_sub>.ngrok.io\" -> \"http://localhost:7860\">\n",
    "http_tunnel = ngrok.connect(7860, bind_tls=True)\n",
    "http_url = http_tunnel.public_url\n",
    "display(HTML(f'<b><a target=\"blank\" href=\"{http_url}\">Load test: {http_url}</a></b>'))"
   ]
  },
  {
   "cell_type": "code",
   "execution_count": 2,
   "id": "de759b34",
   "metadata": {},
   "outputs": [
    {
     "data": {
      "text/html": [
       "<b><a target=\"blank\" href=\"NgrokTunnel: \"tcp://8.tcp.ngrok.io:15159\" -> \"localhost:22\"\">SSH test: NgrokTunnel: \"tcp://8.tcp.ngrok.io:15159\" -> \"localhost:22\"</a></b>"
      ],
      "text/plain": [
       "<IPython.core.display.HTML object>"
      ]
     },
     "metadata": {},
     "output_type": "display_data"
    }
   ],
   "source": [
    "# Open a SSH tunnel\n",
    "# <NgrokTunnel: \"tcp://0.tcp.ngrok.io:12345\" -> \"localhost:22\">\n",
    "ssh_tunnel = ngrok.connect(22, \"tcp\")\n",
    "display(HTML(f'<b><a target=\"blank\" href=\"{ssh_tunnel}\">SSH test: {ssh_tunnel}</a></b>'))"
   ]
  },
  {
   "cell_type": "code",
   "execution_count": 3,
   "id": "1ee323a4",
   "metadata": {},
   "outputs": [
    {
     "name": "stdout",
     "output_type": "stream",
     "text": [
      "[<NgrokTunnel: \"tcp://8.tcp.ngrok.io:15159\" -> \"localhost:22\">, <NgrokTunnel: \"https://e870-34-236-55-223.ngrok.io\" -> \"http://localhost:7860\">]\n"
     ]
    }
   ],
   "source": [
    "tunnels = ngrok.get_tunnels()\n",
    "print(tunnels)"
   ]
  },
  {
   "cell_type": "code",
   "execution_count": 4,
   "id": "9fe06a3c",
   "metadata": {},
   "outputs": [
    {
     "name": "stdin",
     "output_type": "stream",
     "text": [
      "Would you like stop ngrok server? (y/N)  n\n"
     ]
    },
    {
     "name": "stdout",
     "output_type": "stream",
     "text": [
      " Ngrowk is still working: \n",
      "\n",
      " [<NgrokTunnel: \"tcp://8.tcp.ngrok.io:15159\" -> \"localhost:22\">, <NgrokTunnel: \"https://e870-34-236-55-223.ngrok.io\" -> \"http://localhost:7860\">]\n"
     ]
    }
   ],
   "source": [
    "msg = 'Would you like stop ngrok server?'\n",
    "shall = input(\"%s (y/N) \" % msg).lower() == 'y'\n",
    "if shall == True:\n",
    "    print(\" Shutting down ngrok server.\")\n",
    "    ngrok.kill()\n",
    "else:\n",
    "    print(\" Ngrowk is still working: \\n\\n\",tunnels)"
   ]
  }
 ],
 "metadata": {
  "kernelspec": {
   "display_name": "Python3 (text2video)",
   "language": "python",
   "name": "text2video"
  },
  "language_info": {
   "codemirror_mode": {
    "name": "ipython",
    "version": 3
   },
   "file_extension": ".py",
   "mimetype": "text/x-python",
   "name": "python",
   "nbconvert_exporter": "python",
   "pygments_lexer": "ipython3",
   "version": "3.8.13"
  }
 },
 "nbformat": 4,
 "nbformat_minor": 5
}
