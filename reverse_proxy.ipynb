{
 "cells": [
  {
   "cell_type": "code",
   "execution_count": 10,
   "id": "58572c9d",
   "metadata": {},
   "outputs": [
    {
     "data": {
      "text/plain": [
       "{'status': 'ok', 'restart': True}"
      ]
     },
     "execution_count": 10,
     "metadata": {},
     "output_type": "execute_result"
    }
   ],
   "source": [
    "#Setup of your token\n",
    "import sys, IPython\n",
    "from pyngrok import ngrok\n",
    "YOUR_TOKEN=\"\"\n",
    "ngrok.set_auth_token(YOUR_TOKEN)\n",
    "IPython.Application.instance().kernel.do_shutdown(True)"
   ]
  },
  {
   "cell_type": "code",
   "execution_count": 1,
   "id": "5b33a377",
   "metadata": {},
   "outputs": [
    {
     "data": {
      "text/html": [
       "<b><a target=\"blank\" href=\"https://22d5-34-236-55-223.ngrok.io\">Load test: https://22d5-34-236-55-223.ngrok.io</a></b>"
      ],
      "text/plain": [
       "<IPython.core.display.HTML object>"
      ]
     },
     "metadata": {},
     "output_type": "display_data"
    }
   ],
   "source": [
    "# If is installed the t\n",
    "import sys, IPython\n",
    "from pyngrok import ngrok\n",
    "from IPython.core.display import display, HTML\n",
    "# Open a HTTP tunnel on port 8089\n",
    "# <NgrokTunnel: \"http://<public_sub>.ngrok.io\" -> \"http://localhost:8089\">\n",
    "http_tunnel = ngrok.connect(8089, bind_tls=True)\n",
    "http_url = http_tunnel.public_url\n",
    "display(HTML(f'<b><a target=\"blank\" href=\"{http_url}\">Load test: {http_url}</a></b>'))"
   ]
  },
  {
   "cell_type": "code",
   "execution_count": 2,
   "id": "8395b10a",
   "metadata": {},
   "outputs": [
    {
     "data": {
      "text/html": [
       "<b><a target=\"blank\" href=\"NgrokTunnel: \"tcp://2.tcp.ngrok.io:11436\" -> \"localhost:22\"\">SSH test: NgrokTunnel: \"tcp://2.tcp.ngrok.io:11436\" -> \"localhost:22\"</a></b>"
      ],
      "text/plain": [
       "<IPython.core.display.HTML object>"
      ]
     },
     "metadata": {},
     "output_type": "display_data"
    }
   ],
   "source": [
    "# Open a SSH tunnel\n",
    "# <NgrokTunnel: \"tcp://0.tcp.ngrok.io:12345\" -> \"localhost:22\">\n",
    "ssh_tunnel = ngrok.connect(22, \"tcp\")\n",
    "display(HTML(f'<b><a target=\"blank\" href=\"{ssh_tunnel}\">SSH test: {ssh_tunnel}</a></b>'))"
   ]
  },
  {
   "cell_type": "code",
   "execution_count": 3,
   "id": "2463ed92",
   "metadata": {},
   "outputs": [
    {
     "name": "stdout",
     "output_type": "stream",
     "text": [
      "[<NgrokTunnel: \"https://22d5-34-236-55-223.ngrok.io\" -> \"http://localhost:8089\">, <NgrokTunnel: \"tcp://2.tcp.ngrok.io:11436\" -> \"localhost:22\">]\n"
     ]
    }
   ],
   "source": [
    "tunnels = ngrok.get_tunnels()\n",
    "print(tunnels)"
   ]
  },
  {
   "cell_type": "markdown",
   "id": "4a60fea5",
   "metadata": {},
   "source": [
    "You can test your Webserver"
   ]
  },
  {
   "cell_type": "markdown",
   "id": "9f75ee0a",
   "metadata": {},
   "source": [
    "After you have used you app you can close everything"
   ]
  },
  {
   "cell_type": "code",
   "execution_count": 4,
   "id": "e54443b9",
   "metadata": {},
   "outputs": [
    {
     "name": "stdout",
     "output_type": "stream",
     "text": [
      " Shutting down server.\n"
     ]
    }
   ],
   "source": [
    "print(\" Shutting down server.\")\n",
    "ngrok.kill()"
   ]
  },
  {
   "cell_type": "markdown",
   "id": "0b379512",
   "metadata": {},
   "source": [
    "Or just simple you can load NGROK via terminal"
   ]
  },
  {
   "cell_type": "code",
   "execution_count": 5,
   "id": "2dba9402",
   "metadata": {},
   "outputs": [],
   "source": [
    "#!ngrok http 8089"
   ]
  }
 ],
 "metadata": {
  "kernelspec": {
   "display_name": "Python-Spark",
   "language": "python",
   "name": "python-spark"
  },
  "language_info": {
   "codemirror_mode": {
    "name": "ipython",
    "version": 3
   },
   "file_extension": ".py",
   "mimetype": "text/x-python",
   "name": "python",
   "nbconvert_exporter": "python",
   "pygments_lexer": "ipython3",
   "version": "3.8.12"
  }
 },
 "nbformat": 4,
 "nbformat_minor": 5
}
