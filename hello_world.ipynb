{
 "cells": [
  {
   "cell_type": "code",
   "execution_count": 13,
   "id": "f7bac519",
   "metadata": {},
   "outputs": [],
   "source": [
    "import gradio as gr\n",
    "def test():\n",
    "    def greet(name):\n",
    "      return \"Hello \" + name + \"!\"\n",
    "    iface = gr.Interface(fn=greet, inputs=\"text\", outputs=\"text\")\n",
    "    iface.launch(server_port=8089)"
   ]
  },
  {
   "cell_type": "markdown",
   "id": "b5444a1e",
   "metadata": {},
   "source": [
    "You can test your Webserver"
   ]
  },
  {
   "cell_type": "code",
   "execution_count": null,
   "id": "26ff5971",
   "metadata": {},
   "outputs": [],
   "source": [
    "test()"
   ]
  },
  {
   "cell_type": "markdown",
   "id": "1ead8aff",
   "metadata": {},
   "source": [
    "After you have used you app you can close everything"
   ]
  },
  {
   "cell_type": "code",
   "execution_count": 15,
   "id": "c4a6caa5",
   "metadata": {},
   "outputs": [
    {
     "name": "stdout",
     "output_type": "stream",
     "text": [
      " Shutting down server.\n",
      "Closing server running on port: 8089\n"
     ]
    }
   ],
   "source": [
    "print(\" Shutting down server.\")\n",
    "gr.close_all()"
   ]
  }
 ],
 "metadata": {
  "kernelspec": {
   "display_name": "Python (video3)",
   "language": "python",
   "name": "video3"
  },
  "language_info": {
   "codemirror_mode": {
    "name": "ipython",
    "version": 3
   },
   "file_extension": ".py",
   "mimetype": "text/x-python",
   "name": "python",
   "nbconvert_exporter": "python",
   "pygments_lexer": "ipython3",
   "version": "3.8.12"
  }
 },
 "nbformat": 4,
 "nbformat_minor": 5
}
