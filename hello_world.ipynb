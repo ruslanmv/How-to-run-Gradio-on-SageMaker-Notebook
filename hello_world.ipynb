{
 "cells": [
  {
   "cell_type": "code",
   "execution_count": 1,
   "id": "91c5d3ca",
   "metadata": {},
   "outputs": [],
   "source": [
    "import gradio as gr\n",
    "def test():\n",
    "    def greet(name):\n",
    "      return \"Hello \" + name + \"!\"\n",
    "    iface = gr.Interface(fn=greet, inputs=\"text\", outputs=\"text\")\n",
    "    iface.launch(server_port=7860)"
   ]
  },
  {
   "cell_type": "code",
   "execution_count": 2,
   "id": "fb0521e7",
   "metadata": {},
   "outputs": [
    {
     "name": "stdout",
     "output_type": "stream",
     "text": [
      "Running on local URL:  http://127.0.0.1:7860/\n",
      "\n",
      "To create a public link, set `share=True` in `launch()`.\n"
     ]
    },
    {
     "data": {
      "text/html": [
       "<div><iframe src=\"http://127.0.0.1:7860/\" width=\"900\" height=\"500\" allow=\"autoplay; camera; microphone;\" frameborder=\"0\" allowfullscreen></iframe></div>"
      ],
      "text/plain": [
       "<IPython.core.display.HTML object>"
      ]
     },
     "metadata": {},
     "output_type": "display_data"
    }
   ],
   "source": [
    "test()"
   ]
  },
  {
   "cell_type": "code",
   "execution_count": 3,
   "id": "684ea47e",
   "metadata": {},
   "outputs": [
    {
     "name": "stdin",
     "output_type": "stream",
     "text": [
      "Would you like stop gradio server? (y/N)  y\n"
     ]
    },
    {
     "name": "stdout",
     "output_type": "stream",
     "text": [
      " Shutting down gradio server.\n",
      "Closing server running on port: 7860\n"
     ]
    }
   ],
   "source": [
    "msg = 'Would you like stop gradio server?'\n",
    "shall = input(\"%s (y/N) \" % msg).lower() == 'y'\n",
    "if shall == True:\n",
    "    print(\" Shutting down gradio server.\")\n",
    "    gr.close_all()"
   ]
  }
 ],
 "metadata": {
  "kernelspec": {
   "display_name": "Python3 (text2video)",
   "language": "python",
   "name": "text2video"
  },
  "language_info": {
   "codemirror_mode": {
    "name": "ipython",
    "version": 3
   },
   "file_extension": ".py",
   "mimetype": "text/x-python",
   "name": "python",
   "nbconvert_exporter": "python",
   "pygments_lexer": "ipython3",
   "version": "3.8.13"
  }
 },
 "nbformat": 4,
 "nbformat_minor": 5
}
